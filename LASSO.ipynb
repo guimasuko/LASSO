{
 "cells": [
  {
   "attachments": {},
   "cell_type": "markdown",
   "metadata": {},
   "source": [
    "# Least Absolute Shrinkage and Selection Operator (LASSO)\n",
    "\n",
    "O objetivo desse notebook é aprender de maneira prática como utilizar os pacotes de python em um modelo de seleção de variáveis. Para isso, seguiremos um tutorial que pode ser encontrado na internet.\n",
    "\n",
    "link: https://www.kirenz.com/post/2019-08-12-python-lasso-regression-auto/\n",
    "\n",
    "Agradeço ao autor do tutorial Jan Kirenz pela ajuda no desenvolvimento e aprendizado."
   ]
  },
  {
   "attachments": {},
   "cell_type": "markdown",
   "metadata": {},
   "source": [
    "O interesse aqui de fato é o aprendizado sobre a técnica dentro da classe de modelos de mínimos quadrados penalizados do LASSO. Mas precisamos nos introduzir ao que será feito no exercício prático. A idéia aqui é prever da melhor maneira os salários dos jogadores de beisebol da Major League Baseball das temporadas de 1986 e 1987."
   ]
  }
 ],
 "metadata": {
  "kernelspec": {
   "display_name": "Python 3",
   "language": "python",
   "name": "python3"
  },
  "language_info": {
   "name": "python",
   "version": "3.10.2 (tags/v3.10.2:a58ebcc, Jan 17 2022, 14:12:15) [MSC v.1929 64 bit (AMD64)]"
  },
  "orig_nbformat": 4,
  "vscode": {
   "interpreter": {
    "hash": "c63d8c7d738c2960218a10995aedf0a7f67a49a231e71037adf0440953cdb45b"
   }
  }
 },
 "nbformat": 4,
 "nbformat_minor": 2
}
